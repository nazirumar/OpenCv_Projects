{
  "nbformat": 4,
  "nbformat_minor": 0,
  "metadata": {
    "colab": {
      "provenance": [],
      "authorship_tag": "ABX9TyPrG98Z3FOevhEMHjEIEdpG",
      "include_colab_link": true
    },
    "kernelspec": {
      "name": "python3",
      "display_name": "Python 3"
    },
    "language_info": {
      "name": "python"
    },
    "accelerator": "TPU"
  },
  "cells": [
    {
      "cell_type": "markdown",
      "metadata": {
        "id": "view-in-github",
        "colab_type": "text"
      },
      "source": [
        "<a href=\"https://colab.research.google.com/github/nazirumar/OpenCv_Projects/blob/main/ineurolearn.ipynb\" target=\"_parent\"><img src=\"https://colab.research.google.com/assets/colab-badge.svg\" alt=\"Open In Colab\"/></a>"
      ]
    },
    {
      "cell_type": "code",
      "execution_count": 37,
      "metadata": {
        "colab": {
          "base_uri": "https://localhost:8080/"
        },
        "id": "7YPwYvIjyQT1",
        "outputId": "32eb3c6d-ee82-49a7-8121-3056199f68e1"
      },
      "outputs": [
        {
          "output_type": "stream",
          "name": "stdout",
          "text": [
            "2.12.0\n"
          ]
        }
      ],
      "source": [
        "import tensorflow as tf\n",
        "import numpy as np\n",
        "print(tf.__version__)"
      ]
    },
    {
      "cell_type": "code",
      "source": [
        "eyes = tf.eye(5, batch_shape=[3])\n",
        "eyes"
      ],
      "metadata": {
        "colab": {
          "base_uri": "https://localhost:8080/"
        },
        "id": "M9zmls0RH0fZ",
        "outputId": "fdbfe279-2bd8-45e6-df60-735055deeb61"
      },
      "execution_count": 74,
      "outputs": [
        {
          "output_type": "execute_result",
          "data": {
            "text/plain": [
              "<tf.Tensor: shape=(3, 5, 5), dtype=float32, numpy=\n",
              "array([[[1., 0., 0., 0., 0.],\n",
              "        [0., 1., 0., 0., 0.],\n",
              "        [0., 0., 1., 0., 0.],\n",
              "        [0., 0., 0., 1., 0.],\n",
              "        [0., 0., 0., 0., 1.]],\n",
              "\n",
              "       [[1., 0., 0., 0., 0.],\n",
              "        [0., 1., 0., 0., 0.],\n",
              "        [0., 0., 1., 0., 0.],\n",
              "        [0., 0., 0., 1., 0.],\n",
              "        [0., 0., 0., 0., 1.]],\n",
              "\n",
              "       [[1., 0., 0., 0., 0.],\n",
              "        [0., 1., 0., 0., 0.],\n",
              "        [0., 0., 1., 0., 0.],\n",
              "        [0., 0., 0., 1., 0.],\n",
              "        [0., 0., 0., 0., 1.]]], dtype=float32)>"
            ]
          },
          "metadata": {},
          "execution_count": 74
        }
      ]
    },
    {
      "cell_type": "code",
      "source": [
        "eyes = tf.eye(2,5)\n",
        "eyes"
      ],
      "metadata": {
        "colab": {
          "base_uri": "https://localhost:8080/"
        },
        "id": "xjThRB-JIe0J",
        "outputId": "691332ac-47bc-44f5-ab3d-72268abc1a99"
      },
      "execution_count": 82,
      "outputs": [
        {
          "output_type": "execute_result",
          "data": {
            "text/plain": [
              "<tf.Tensor: shape=(2, 5), dtype=float32, numpy=\n",
              "array([[1., 0., 0., 0., 0.],\n",
              "       [0., 1., 0., 0., 0.]], dtype=float32)>"
            ]
          },
          "metadata": {},
          "execution_count": 82
        }
      ]
    },
    {
      "cell_type": "code",
      "source": [
        "zero1 = tf.zeros([10,10])\n",
        "zero1\n",
        "zero2 = tf.zeros([10,10])\n",
        "zero2\n",
        "print(zero2.shape)\n",
        "print(zero1.shape)"
      ],
      "metadata": {
        "colab": {
          "base_uri": "https://localhost:8080/"
        },
        "id": "nVAnguXhJZE2",
        "outputId": "25639168-9ee4-4359-8339-00571c6eb7c2"
      },
      "execution_count": 95,
      "outputs": [
        {
          "output_type": "stream",
          "name": "stdout",
          "text": [
            "(10, 10)\n",
            "(10, 10)\n"
          ]
        }
      ]
    },
    {
      "cell_type": "code",
      "source": [
        "zero1.ndim"
      ],
      "metadata": {
        "colab": {
          "base_uri": "https://localhost:8080/"
        },
        "id": "QWv0M_qCKdvY",
        "outputId": "fab5a2ed-43a1-4e61-e3b3-ee6032d7ba94"
      },
      "execution_count": 97,
      "outputs": [
        {
          "output_type": "execute_result",
          "data": {
            "text/plain": [
              "2"
            ]
          },
          "metadata": {},
          "execution_count": 97
        }
      ]
    },
    {
      "cell_type": "code",
      "source": [
        "fills = tf.fill([3, 5], 9)\n",
        "fills"
      ],
      "metadata": {
        "colab": {
          "base_uri": "https://localhost:8080/"
        },
        "id": "gbj1VGwiJHpP",
        "outputId": "29796dcf-5d6b-4b67-fef4-8abb775a55c3"
      },
      "execution_count": 107,
      "outputs": [
        {
          "output_type": "execute_result",
          "data": {
            "text/plain": [
              "<tf.Tensor: shape=(3, 5), dtype=int32, numpy=\n",
              "array([[9, 9, 9, 9, 9],\n",
              "       [9, 9, 9, 9, 9],\n",
              "       [9, 9, 9, 9, 9]], dtype=int32)>"
            ]
          },
          "metadata": {},
          "execution_count": 107
        }
      ]
    },
    {
      "cell_type": "code",
      "source": [
        "one = tf.ones([10,10])\n",
        "one"
      ],
      "metadata": {
        "colab": {
          "base_uri": "https://localhost:8080/"
        },
        "id": "SI-JWrxTLQLR",
        "outputId": "139d9085-e6ef-46a1-cdc0-6507ca8bb1a8"
      },
      "execution_count": 108,
      "outputs": [
        {
          "output_type": "execute_result",
          "data": {
            "text/plain": [
              "<tf.Tensor: shape=(10, 10), dtype=float32, numpy=\n",
              "array([[1., 1., 1., 1., 1., 1., 1., 1., 1., 1.],\n",
              "       [1., 1., 1., 1., 1., 1., 1., 1., 1., 1.],\n",
              "       [1., 1., 1., 1., 1., 1., 1., 1., 1., 1.],\n",
              "       [1., 1., 1., 1., 1., 1., 1., 1., 1., 1.],\n",
              "       [1., 1., 1., 1., 1., 1., 1., 1., 1., 1.],\n",
              "       [1., 1., 1., 1., 1., 1., 1., 1., 1., 1.],\n",
              "       [1., 1., 1., 1., 1., 1., 1., 1., 1., 1.],\n",
              "       [1., 1., 1., 1., 1., 1., 1., 1., 1., 1.],\n",
              "       [1., 1., 1., 1., 1., 1., 1., 1., 1., 1.],\n",
              "       [1., 1., 1., 1., 1., 1., 1., 1., 1., 1.]], dtype=float32)>"
            ]
          },
          "metadata": {},
          "execution_count": 108
        }
      ]
    },
    {
      "cell_type": "code",
      "source": [
        "var = tf.constant([[1,2,3], [5,6,7]])\n",
        "zero_lk = tf.zeros_like(var)\n",
        "zero_lk"
      ],
      "metadata": {
        "colab": {
          "base_uri": "https://localhost:8080/"
        },
        "id": "yPLP6smVLcBd",
        "outputId": "d984144a-9965-45cb-acfc-318e9fe41b9b"
      },
      "execution_count": 115,
      "outputs": [
        {
          "output_type": "execute_result",
          "data": {
            "text/plain": [
              "<tf.Tensor: shape=(2, 3), dtype=int32, numpy=\n",
              "array([[0, 0, 0],\n",
              "       [0, 0, 0]], dtype=int32)>"
            ]
          },
          "metadata": {},
          "execution_count": 115
        }
      ]
    },
    {
      "cell_type": "code",
      "source": [
        "size = tf.size(var)\n",
        "size"
      ],
      "metadata": {
        "colab": {
          "base_uri": "https://localhost:8080/"
        },
        "id": "2gc1ZV6YMnIm",
        "outputId": "d31077ad-1cc0-4301-e099-92a98b4d408a"
      },
      "execution_count": 117,
      "outputs": [
        {
          "output_type": "execute_result",
          "data": {
            "text/plain": [
              "<tf.Tensor: shape=(), dtype=int32, numpy=6>"
            ]
          },
          "metadata": {},
          "execution_count": 117
        }
      ]
    },
    {
      "cell_type": "code",
      "source": [
        "rank = tf.rank(var)\n",
        "rank"
      ],
      "metadata": {
        "colab": {
          "base_uri": "https://localhost:8080/"
        },
        "id": "_knfMRT4NNwl",
        "outputId": "c27e0973-1645-40b1-83d6-8a2200adb68a"
      },
      "execution_count": 119,
      "outputs": [
        {
          "output_type": "execute_result",
          "data": {
            "text/plain": [
              "<tf.Tensor: shape=(), dtype=int32, numpy=2>"
            ]
          },
          "metadata": {},
          "execution_count": 119
        }
      ]
    },
    {
      "cell_type": "markdown",
      "source": [
        "**Random**"
      ],
      "metadata": {
        "id": "mLM4K88mXYaX"
      }
    },
    {
      "cell_type": "code",
      "source": [
        "tf.random.set_seed(5);\n",
        "random =tf.random.normal([20], 0, 1, tf.float32)\n",
        "random"
      ],
      "metadata": {
        "colab": {
          "base_uri": "https://localhost:8080/"
        },
        "id": "3H08jJcjNuGW",
        "outputId": "73fb3580-d7b1-4f94-e5a3-ae59353f8701"
      },
      "execution_count": 156,
      "outputs": [
        {
          "output_type": "execute_result",
          "data": {
            "text/plain": [
              "<tf.Tensor: shape=(20,), dtype=float32, numpy=\n",
              "array([-0.18030666, -0.95028627, -0.03964049, -0.7425406 ,  1.3231523 ,\n",
              "       -0.61854804,  0.8540664 , -0.08899953,  2.4488697 ,  0.762508  ,\n",
              "        1.2659615 ,  0.9801489 ,  1.5293121 , -0.57500345,  0.8987044 ,\n",
              "       -1.250801  , -0.8604956 ,  1.260746  , -0.6830498 ,  0.02615766],\n",
              "      dtype=float32)>"
            ]
          },
          "metadata": {},
          "execution_count": 156
        }
      ]
    },
    {
      "cell_type": "code",
      "source": [
        "tf.random.set_seed(2)\n",
        "uniform = tf.random.uniform([10],  minval=-1, maxval=2)\n",
        "uniform"
      ],
      "metadata": {
        "colab": {
          "base_uri": "https://localhost:8080/"
        },
        "id": "7k83kgdUPXyG",
        "outputId": "4d78fbac-e49d-4f9c-a3f7-82cc26ac2280"
      },
      "execution_count": 198,
      "outputs": [
        {
          "output_type": "execute_result",
          "data": {
            "text/plain": [
              "<tf.Tensor: shape=(10,), dtype=float32, numpy=\n",
              "array([-0.5592927 ,  0.3927703 , -0.3253007 ,  0.05866539,  1.9572225 ,\n",
              "        1.9973071 ,  0.69466436, -0.5087477 ,  1.9670806 ,  1.0442419 ],\n",
              "      dtype=float32)>"
            ]
          },
          "metadata": {},
          "execution_count": 198
        }
      ]
    },
    {
      "cell_type": "code",
      "source": [
        "# complex number\n",
        "x = tf.constant([[-2.25 + 4.75j], [-3.25 + 5.75j]])\n",
        "tf.abs(x)\n",
        "\n",
        "\n"
      ],
      "metadata": {
        "colab": {
          "base_uri": "https://localhost:8080/"
        },
        "id": "fXqW5jtgRTw5",
        "outputId": "7bf7be70-c3dd-4bec-be94-7030763ce910"
      },
      "execution_count": 214,
      "outputs": [
        {
          "output_type": "execute_result",
          "data": {
            "text/plain": [
              "<tf.Tensor: shape=(2, 1), dtype=float64, numpy=\n",
              "array([[5.25594901],\n",
              "       [6.60492241]])>"
            ]
          },
          "metadata": {},
          "execution_count": 214
        }
      ]
    },
    {
      "cell_type": "markdown",
      "source": [
        "**Math**"
      ],
      "metadata": {
        "id": "Dr9deZ_gXfgd"
      }
    },
    {
      "cell_type": "code",
      "source": [
        "var = tf.constant([[2,3,4,5,6], \n",
        "                   [2,6,8,9,4]\n",
        "                   ])\n",
        "argmax = tf.math.argmax(var, 1)\n",
        "print(argmax)\n",
        "\n",
        "var = tf.constant([[2,3,4,5,6], \n",
        "                   [6,2,8,9,4]\n",
        "                   ])\n",
        "argmin = tf.math.argmin(var, 1)\n",
        "print(argmin)"
      ],
      "metadata": {
        "colab": {
          "base_uri": "https://localhost:8080/"
        },
        "id": "ClMknQ2DTh0m",
        "outputId": "5d4d114b-39de-4297-cd89-331f6b5c55d9"
      },
      "execution_count": 222,
      "outputs": [
        {
          "output_type": "stream",
          "name": "stdout",
          "text": [
            "tf.Tensor([4 3], shape=(2,), dtype=int64)\n",
            "tf.Tensor([0 1], shape=(2,), dtype=int64)\n"
          ]
        }
      ]
    },
    {
      "cell_type": "code",
      "source": [
        "var1 = tf.constant([2,3,4,5,6,5])\n",
        "reduce_sum = tf.math.reduce_sum(var1)\n",
        "print(reduce_sum)\n",
        "var2 = tf.constant([[2,3,4,5,6,5], [10,10,10,10,10,10]])\n",
        "reduce_sum = tf.math.reduce_sum(var2)\n",
        "print(reduce_sum)"
      ],
      "metadata": {
        "colab": {
          "base_uri": "https://localhost:8080/"
        },
        "id": "TdjtpBOrVeZp",
        "outputId": "e7181508-24b0-48da-eee6-b4e22286bcd8"
      },
      "execution_count": 225,
      "outputs": [
        {
          "output_type": "stream",
          "name": "stdout",
          "text": [
            "tf.Tensor(25, shape=(), dtype=int32)\n",
            "tf.Tensor(85, shape=(), dtype=int32)\n"
          ]
        }
      ]
    },
    {
      "cell_type": "code",
      "source": [
        "var = tf.constant([0,3,90,2, 300])\n",
        "top_k = tf.math.top_k(var, k=3)\n",
        "print(top_k)"
      ],
      "metadata": {
        "colab": {
          "base_uri": "https://localhost:8080/"
        },
        "id": "tljfdt6KWgbi",
        "outputId": "fc7c9bf6-3e22-4299-f1eb-b0dee8311c4b"
      },
      "execution_count": 230,
      "outputs": [
        {
          "output_type": "stream",
          "name": "stdout",
          "text": [
            "TopKV2(values=<tf.Tensor: shape=(3,), dtype=int32, numpy=array([300,  90,   3], dtype=int32)>, indices=<tf.Tensor: shape=(3,), dtype=int32, numpy=array([4, 2, 1], dtype=int32)>)\n"
          ]
        }
      ]
    },
    {
      "cell_type": "markdown",
      "source": [
        "**LinearAlgebra**"
      ],
      "metadata": {
        "id": "aT55mQHPXlTF"
      }
    },
    {
      "cell_type": "code",
      "source": [
        "var  = tf.constant([[ 0,  1,  2, 3],\n",
        "               [-1,  0,  1, 2],\n",
        "               [-2, -1,  0, 1],\n",
        "               [-3, -2, -1, 0]])\n",
        "linag1 = tf.linalg.band_part(var, 1, 1)\n",
        "linag2 = tf.linalg.band_part(var, 2, 1)\n",
        "print(linag1)\n",
        "print(linag2)\n",
        "# https://www.tensorflow.org/api_docs/python/tf/linalg/band_part"
      ],
      "metadata": {
        "colab": {
          "base_uri": "https://localhost:8080/"
        },
        "id": "fvfZoI7qXTOj",
        "outputId": "1890665e-c97b-45c6-8731-0985a0a4e629"
      },
      "execution_count": 240,
      "outputs": [
        {
          "output_type": "stream",
          "name": "stdout",
          "text": [
            "tf.Tensor(\n",
            "[[ 0  1  0  0]\n",
            " [-1  0  1  0]\n",
            " [ 0 -1  0  1]\n",
            " [ 0  0 -1  0]], shape=(4, 4), dtype=int32)\n",
            "tf.Tensor(\n",
            "[[ 0  1  0  0]\n",
            " [-1  0  1  0]\n",
            " [-2 -1  0  1]\n",
            " [ 0 -2 -1  0]], shape=(4, 4), dtype=int32)\n"
          ]
        }
      ]
    },
    {
      "cell_type": "code",
      "source": [
        "m0 = tf.random.normal(shape=[2, 3])\n",
        "m1 = tf.random.normal(shape=[3, 5])\n",
        "e = tf.einsum('ij,jk->ik', m0, m1)\n",
        "# output[i,k] = sum_j m0[i,j] * m1[j, k]\n",
        "print(e.shape)\n"
      ],
      "metadata": {
        "colab": {
          "base_uri": "https://localhost:8080/"
        },
        "id": "1o2NEvLtbfbn",
        "outputId": "3d80dfd6-a15b-4841-8b3d-6965c5fd37fc"
      },
      "execution_count": 241,
      "outputs": [
        {
          "output_type": "stream",
          "name": "stdout",
          "text": [
            "(2, 5)\n"
          ]
        }
      ]
    },
    {
      "cell_type": "code",
      "source": [
        "squeeze = tf.constant([[[1,2,3,4], [2,4,5,6], [7,2,7,8]]])\n",
        "print(squeeze.shape)\n",
        "print(tf.squeeze(squeeze).shape)"
      ],
      "metadata": {
        "colab": {
          "base_uri": "https://localhost:8080/"
        },
        "id": "sg1HeA6YblU4",
        "outputId": "60da20fa-9e57-4297-c7bf-9b4f095368b5"
      },
      "execution_count": 250,
      "outputs": [
        {
          "output_type": "stream",
          "name": "stdout",
          "text": [
            "(1, 3, 4)\n",
            "(3, 4)\n"
          ]
        }
      ]
    },
    {
      "cell_type": "code",
      "source": [
        "var = tf.constant([[1,23,40], \n",
        "                  [10,22,11]\n",
        "                   ])\n",
        "print(var)\n",
        "expand_dim = tf.expand_dims(var, 0)\n",
        "print(expand_dim)"
      ],
      "metadata": {
        "colab": {
          "base_uri": "https://localhost:8080/"
        },
        "id": "GzqIPdDucn59",
        "outputId": "fd80baa7-e8c0-4871-de7d-fddf77ce2177"
      },
      "execution_count": 258,
      "outputs": [
        {
          "output_type": "stream",
          "name": "stdout",
          "text": [
            "tf.Tensor(\n",
            "[[ 1 23 40]\n",
            " [10 22 11]], shape=(2, 3), dtype=int32)\n",
            "tf.Tensor(\n",
            "[[[ 1 23 40]\n",
            "  [10 22 11]]], shape=(1, 2, 3), dtype=int32)\n"
          ]
        }
      ]
    },
    {
      "cell_type": "code",
      "source": [
        "var = tf.range(1,201)\n",
        "print(var.shape)\n",
        "reshape = tf.reshape(var, shape=(5,5,8))\n",
        "print(reshape.shape)\n"
      ],
      "metadata": {
        "colab": {
          "base_uri": "https://localhost:8080/"
        },
        "id": "W2eeHJZ_dehe",
        "outputId": "b6bd98b4-2cfb-46cb-a906-287df0a4b52e"
      },
      "execution_count": 309,
      "outputs": [
        {
          "output_type": "stream",
          "name": "stdout",
          "text": [
            "(200,)\n",
            "(5, 5, 8)\n"
          ]
        }
      ]
    },
    {
      "cell_type": "code",
      "source": [
        "x_1 = tf.constant([[1,23,40], \n",
        "                  [10,22,11]\n",
        "                   ])\n",
        "x_2 = tf.constant([[10,3,4], \n",
        "                  [11,2,1]\n",
        "                   ])\n",
        "print(tf.concat([x_1, x_2], 1)) # Columns\n",
        "print(tf.concat([x_1, x_2], 0)) # Rows"
      ],
      "metadata": {
        "colab": {
          "base_uri": "https://localhost:8080/"
        },
        "id": "gLDPCWIsez60",
        "outputId": "ba113429-842f-4caa-acbc-672119d54e81"
      },
      "execution_count": 275,
      "outputs": [
        {
          "output_type": "stream",
          "name": "stdout",
          "text": [
            "tf.Tensor(\n",
            "[[ 1 23 40 10  3  4]\n",
            " [10 22 11 11  2  1]], shape=(2, 6), dtype=int32)\n",
            "tf.Tensor(\n",
            "[[ 1 23 40]\n",
            " [10 22 11]\n",
            " [10  3  4]\n",
            " [11  2  1]], shape=(4, 3), dtype=int32)\n"
          ]
        }
      ]
    },
    {
      "cell_type": "code",
      "source": [
        "x_1 = tf.constant([[1,23,40], \n",
        "                  [10,22,11]\n",
        "                   ])\n",
        "x_2 = tf.constant([[10,3,4], \n",
        "                  [11,2,1]\n",
        "                   ])\n",
        "x_3 = tf.constant([[10,3,4], \n",
        "                  [11,2,1]\n",
        "                   ])\n",
        "print(tf.stack([x_1, x_2, x_3], 1)) # Columns\n",
        "print(tf.stack([x_1, x_2, x_3], 0)) # Rows"
      ],
      "metadata": {
        "colab": {
          "base_uri": "https://localhost:8080/"
        },
        "id": "-P_MO5-6fxMW",
        "outputId": "546ed1e5-15f6-43a3-dcd1-f03134670ae1"
      },
      "execution_count": 277,
      "outputs": [
        {
          "output_type": "stream",
          "name": "stdout",
          "text": [
            "tf.Tensor(\n",
            "[[[ 1 23 40]\n",
            "  [10  3  4]\n",
            "  [10  3  4]]\n",
            "\n",
            " [[10 22 11]\n",
            "  [11  2  1]\n",
            "  [11  2  1]]], shape=(2, 3, 3), dtype=int32)\n",
            "tf.Tensor(\n",
            "[[[ 1 23 40]\n",
            "  [10 22 11]]\n",
            "\n",
            " [[10  3  4]\n",
            "  [11  2  1]]\n",
            "\n",
            " [[10  3  4]\n",
            "  [11  2  1]]], shape=(3, 2, 3), dtype=int32)\n"
          ]
        }
      ]
    },
    {
      "cell_type": "code",
      "source": [
        "print(\"+++++++++++  CONSTANT  +++++++++++ \")\n",
        "x_1 = tf.constant([[10,3,4], \n",
        "                  [11,2,1]\n",
        "                   ])\n",
        "paddings = tf.constant([[1, 1,], [2, 2]])\n",
        "print(tf.pad(x_1, paddings, \"CONSTANT\"), '\\n')\n",
        "\n",
        "print(\"+++++++++++  REFLECT  +++++++++++ \")\n",
        "\n",
        "x_2 = tf.constant([[10,3,4], \n",
        "                  [11,2,1]\n",
        "                   ])\n",
        "paddings = tf.constant([[1, 1,], [2, 2]])\n",
        "print(tf.pad(x_2, paddings, 'REFLECT'), '\\n')\n",
        "\n",
        "print(\"+++++++++++  SYMMETRIC  +++++++++++ \")\n",
        "\n",
        "x_3 = tf.constant([[10,3,4], \n",
        "                  [11,2,1]\n",
        "                   ])\n",
        "paddings = tf.constant([[1, 1,], [2, 2]])\n",
        "print(tf.pad(x_3, paddings, \"SYMMETRIC\"), '\\n')"
      ],
      "metadata": {
        "colab": {
          "base_uri": "https://localhost:8080/"
        },
        "outputId": "c48da154-7df4-491e-f1d7-f2a30b7e78ba",
        "id": "odr_QNROh_7P"
      },
      "execution_count": 283,
      "outputs": [
        {
          "output_type": "stream",
          "name": "stdout",
          "text": [
            "+++++++++++  CONSTANT  +++++++++++ \n",
            "tf.Tensor(\n",
            "[[ 0  0  0  0  0  0  0]\n",
            " [ 0  0 10  3  4  0  0]\n",
            " [ 0  0 11  2  1  0  0]\n",
            " [ 0  0  0  0  0  0  0]], shape=(4, 7), dtype=int32) \n",
            "\n",
            "+++++++++++  REFLECT  +++++++++++ \n",
            "tf.Tensor(\n",
            "[[ 1  2 11  2  1  2 11]\n",
            " [ 4  3 10  3  4  3 10]\n",
            " [ 1  2 11  2  1  2 11]\n",
            " [ 4  3 10  3  4  3 10]], shape=(4, 7), dtype=int32) \n",
            "\n",
            "+++++++++++  SYMMETRIC  +++++++++++ \n",
            "tf.Tensor(\n",
            "[[ 3 10 10  3  4  4  3]\n",
            " [ 3 10 10  3  4  4  3]\n",
            " [ 2 11 11  2  1  1  2]\n",
            " [ 2 11 11  2  1  1  2]], shape=(4, 7), dtype=int32) \n",
            "\n"
          ]
        }
      ]
    },
    {
      "cell_type": "code",
      "source": [
        "params = tf.constant([[0, 1.0, 2.0],\n",
        "                       [10.0, 11.0, 12.0],\n",
        "                       [20.0, 21.0, 22.0],\n",
        "                      [30.0, 31.0, 32.0]])\n",
        "print(tf.gather(params, [[1], [3]]))"
      ],
      "metadata": {
        "colab": {
          "base_uri": "https://localhost:8080/"
        },
        "id": "qNXk38fnAHFk",
        "outputId": "ffcf2edc-ff1a-4285-928d-a2af1917e017"
      },
      "execution_count": 294,
      "outputs": [
        {
          "output_type": "stream",
          "name": "stdout",
          "text": [
            "tf.Tensor(\n",
            "[[[10. 11. 12.]]\n",
            "\n",
            " [[30. 31. 32.]]], shape=(2, 1, 3), dtype=float32)\n"
          ]
        }
      ]
    },
    {
      "cell_type": "code",
      "source": [
        "params = tf.constant([[0, 1.0, 2.0],\n",
        "                       [10.0, 11.0, 12.0],\n",
        "                       [20.0, 21.0, 22.0],\n",
        "                      [30.0, 31.0, 32.0]])\n",
        "print(tf.gather_nd(params, [[1], [3]]))"
      ],
      "metadata": {
        "colab": {
          "base_uri": "https://localhost:8080/"
        },
        "id": "fKS5sNSXlBVz",
        "outputId": "e9dca2f8-7a5c-4433-d81c-ea19d89d7812"
      },
      "execution_count": 295,
      "outputs": [
        {
          "output_type": "stream",
          "name": "stdout",
          "text": [
            "tf.Tensor(\n",
            "[[10. 11. 12.]\n",
            " [30. 31. 32.]], shape=(2, 3), dtype=float32)\n"
          ]
        }
      ]
    },
    {
      "cell_type": "code",
      "source": [
        "params = tf.constant([[0, 1.0, 2.0],\n",
        "                       [10.0, 11.0, 12.0],\n",
        "                       [20.0, 21.0, 22.0],\n",
        "                      [30.0, 31.0, 32.0]])\n",
        "print(tf.ragged())"
      ],
      "metadata": {
        "id": "sBW0IMcwlOgp"
      },
      "execution_count": null,
      "outputs": []
    },
    {
      "cell_type": "code",
      "source": [
        "tf.ragged.boolean_mask(  # Mask a 2D Tensor.\n",
        "    data=[[1, 2, 3], [4, 5, 6], [7, 8, 9]],\n",
        "    mask=[[True, False, True], [False, True, False], [True, False, False]]).to_list()"
      ],
      "metadata": {
        "colab": {
          "base_uri": "https://localhost:8080/"
        },
        "id": "7zFLdz21AgWt",
        "outputId": "85f5385f-25d4-4a91-fa83-5bc07e6b798c"
      },
      "execution_count": 298,
      "outputs": [
        {
          "output_type": "execute_result",
          "data": {
            "text/plain": [
              "[[1, 3], [5], [7]]"
            ]
          },
          "metadata": {},
          "execution_count": 298
        }
      ]
    },
    {
      "cell_type": "code",
      "source": [
        "string = tf.strings.join(['albc','def'], name='k', separator=' ').numpy()\n",
        "print(string)"
      ],
      "metadata": {
        "colab": {
          "base_uri": "https://localhost:8080/"
        },
        "id": "hZBj9RydnGuo",
        "outputId": "a96a32b5-1b75-45dd-81c3-6cae0d2baa48"
      },
      "execution_count": 308,
      "outputs": [
        {
          "output_type": "stream",
          "name": "stdout",
          "text": [
            "b'albc def'\n"
          ]
        }
      ]
    }
  ]
}